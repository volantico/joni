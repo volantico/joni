{
 "cells": [
  {
   "cell_type": "code",
   "execution_count": 1,
   "metadata": {},
   "outputs": [
    {
     "name": "stdout",
     "output_type": "stream",
     "text": [
      "15\n"
     ]
    }
   ],
   "source": [
    "A=10\n",
    "B=5\n",
    "C=A+B\n",
    "print(C)"
   ]
  },
  {
   "cell_type": "code",
   "execution_count": 2,
   "metadata": {},
   "outputs": [
    {
     "name": "stdout",
     "output_type": "stream",
     "text": [
      "15\n"
     ]
    }
   ],
   "source": [
    "B=5\n",
    "A=10\n",
    "C=A+B\n",
    "print(C)"
   ]
  },
  {
   "cell_type": "code",
   "execution_count": 3,
   "metadata": {},
   "outputs": [],
   "source": [
    "del B"
   ]
  },
  {
   "cell_type": "code",
   "execution_count": 4,
   "metadata": {},
   "outputs": [
    {
     "ename": "NameError",
     "evalue": "name 'B' is not defined",
     "output_type": "error",
     "traceback": [
      "\u001b[1;31m---------------------------------------------------------------------------\u001b[0m",
      "\u001b[1;31mNameError\u001b[0m                                 Traceback (most recent call last)",
      "\u001b[1;32m<ipython-input-4-41ce94c1cb67>\u001b[0m in \u001b[0;36m<module>\u001b[1;34m\u001b[0m\n\u001b[0;32m      1\u001b[0m \u001b[0mA\u001b[0m\u001b[1;33m=\u001b[0m\u001b[1;36m10\u001b[0m\u001b[1;33m\u001b[0m\u001b[1;33m\u001b[0m\u001b[0m\n\u001b[1;32m----> 2\u001b[1;33m \u001b[0mC\u001b[0m\u001b[1;33m=\u001b[0m\u001b[0mA\u001b[0m\u001b[1;33m+\u001b[0m\u001b[0mB\u001b[0m\u001b[1;33m\u001b[0m\u001b[1;33m\u001b[0m\u001b[0m\n\u001b[0m\u001b[0;32m      3\u001b[0m \u001b[0mB\u001b[0m\u001b[1;33m=\u001b[0m\u001b[1;36m5\u001b[0m\u001b[1;33m\u001b[0m\u001b[1;33m\u001b[0m\u001b[0m\n\u001b[0;32m      4\u001b[0m \u001b[0mprint\u001b[0m\u001b[1;33m(\u001b[0m\u001b[0mC\u001b[0m\u001b[1;33m)\u001b[0m\u001b[1;33m\u001b[0m\u001b[1;33m\u001b[0m\u001b[0m\n",
      "\u001b[1;31mNameError\u001b[0m: name 'B' is not defined"
     ]
    }
   ],
   "source": [
    "A=10\n",
    "C=A+B\n",
    "B=5\n",
    "print(C)"
   ]
  },
  {
   "cell_type": "code",
   "execution_count": 5,
   "metadata": {},
   "outputs": [
    {
     "name": "stdout",
     "output_type": "stream",
     "text": [
      "Sebelum ditukar : A= 100 B= 25\n",
      "Sesudah ditukar : A= 25 B= 100\n"
     ]
    }
   ],
   "source": [
    "A=100\n",
    "B=25\n",
    "print(\"Sebelum ditukar : A=\",A,\"B=\",B)\n",
    "C=A\n",
    "A=B\n",
    "B=C\n",
    "print(\"Sesudah ditukar : A=\",A,\"B=\",B)"
   ]
  },
  {
   "cell_type": "code",
   "execution_count": 6,
   "metadata": {},
   "outputs": [
    {
     "name": "stdout",
     "output_type": "stream",
     "text": [
      "Sebelum ditukar : A= 100 B= 25\n",
      "Sesudah ditukar : A= 25 B= 100\n"
     ]
    }
   ],
   "source": [
    "A=100\n",
    "B=25\n",
    "print(\"Sebelum ditukar : A=\",A,\"B=\",B)\n",
    "A,B=B,A\n",
    "print(\"Sesudah ditukar : A=\",A,\"B=\",B)"
   ]
  },
  {
   "cell_type": "code",
   "execution_count": 7,
   "metadata": {},
   "outputs": [
    {
     "name": "stdout",
     "output_type": "stream",
     "text": [
      "2\n",
      "1\n",
      "0\n",
      "2\n"
     ]
    }
   ],
   "source": [
    "print(5 // 2)\n",
    "print(5 % 2)\n",
    "print(2 // 5)\n",
    "print(2 % 5)"
   ]
  },
  {
   "cell_type": "code",
   "execution_count": null,
   "metadata": {},
   "outputs": [],
   "source": [
    "Celcius=float(input(\"Ketik Nilai Celcius =\"))\n",
    "Reamur = 4/5*Celcius\n",
    "Fahrenhit = 9/5*Celcius+32\n",
    "Kelvin = 273+Celcius\n",
    "print(\"Celcius = \",Celcius)\n",
    "print(\"Reamur  = \",Reamur)\n",
    "print(\"Kelvin  = \",Kelvin)"
   ]
  },
  {
   "cell_type": "code",
   "execution_count": null,
   "metadata": {},
   "outputs": [],
   "source": [
    "panjang=float(input(\"ketik nilai panjang =\"))\n",
    "lebar=float(input(\"ketik nilai lebar =\"))\n",
    "keliling = 2*panjang+2*lebar\n",
    "luas = panjang*lebar\n",
    "print(\"keliling = \",keliling)\n",
    "print(\"luas =\",luas)"
   ]
  },
  {
   "cell_type": "code",
   "execution_count": null,
   "metadata": {},
   "outputs": [],
   "source": [
    "detik=int(input(\"Ketik nilai detik =\"))\n",
    "D=detik\n",
    "H=D//86400\n",
    "D=D%86400\n",
    "J=D//3600\n",
    "D=D%3600\n",
    "M=D//60\n",
    "D=D%60\n",
    "print(detik,\"detik = \",H,\" hari + \",J,\" jam + \",M,\" menit + \",D,\" detik\")"
   ]
  },
  {
   "cell_type": "code",
   "execution_count": null,
   "metadata": {},
   "outputs": [],
   "source": [
    "Rp=int(input(\"Ketik nilai Rp =\"))\n",
    "R=Rp\n",
    "S=R//100000\n",
    "R=R%100000\n",
    "L=R//50000\n",
    "R=R%50000\n",
    "D=R//20000\n",
    "R=R%20000\n",
    "C=R//10000\n",
    "R=R%10000\n",
    "G=R//5000\n",
    "R=R%5000\n",
    "print(Rp,\" Rp = \",S,\" Ratusan + \",L,\" Lima Puluh + \",D,\" Dua Puluh + \",C,\" Ceban + \",G,\" Goceng + \",R,\" Rp \" )"
   ]
  }
 ],
 "metadata": {
  "kernelspec": {
   "display_name": "Python 3",
   "language": "python",
   "name": "python3"
  },
  "language_info": {
   "codemirror_mode": {
    "name": "ipython",
    "version": 3
   },
   "file_extension": ".py",
   "mimetype": "text/x-python",
   "name": "python",
   "nbconvert_exporter": "python",
   "pygments_lexer": "ipython3",
   "version": "3.7.4"
  }
 },
 "nbformat": 4,
 "nbformat_minor": 2
}
